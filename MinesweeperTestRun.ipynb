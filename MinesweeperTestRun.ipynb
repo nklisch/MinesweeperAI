{
 "cells": [
  {
   "cell_type": "code",
   "execution_count": 1,
   "metadata": {
    "collapsed": true,
    "pycharm": {
     "is_executing": false
    }
   },
   "outputs": [],
   "source": [
    "from MinesweeperEnv.Minesweeper import MinesweeperEnv\n",
    "import time\n",
    "import random\n",
    "import MinesweeperDQN as mDQN\n",
    "import torch\n",
    "\n"
   ]
  },
  {
   "cell_type": "code",
   "execution_count": 2,
   "outputs": [
    {
     "traceback": [
      "\u001b[0;31m---------------------------------------------------------------------------\u001b[0m",
      "\u001b[0;31mValueError\u001b[0m                                Traceback (most recent call last)",
      "\u001b[0;32m<ipython-input-2-2215971792a1>\u001b[0m in \u001b[0;36m<module>\u001b[0;34m\u001b[0m\n\u001b[1;32m     10\u001b[0m         \u001b[0mprint\u001b[0m\u001b[0;34m(\u001b[0m\u001b[0;34m\"reward: \"\u001b[0m\u001b[0;34m,\u001b[0m \u001b[0mreward\u001b[0m\u001b[0;34m)\u001b[0m\u001b[0;34m\u001b[0m\u001b[0;34m\u001b[0m\u001b[0m\n\u001b[1;32m     11\u001b[0m         \u001b[0mtime\u001b[0m\u001b[0;34m.\u001b[0m\u001b[0msleep\u001b[0m\u001b[0;34m(\u001b[0m\u001b[0;36m1\u001b[0m\u001b[0;34m)\u001b[0m\u001b[0;34m\u001b[0m\u001b[0;34m\u001b[0m\u001b[0m\n\u001b[0;32m---> 12\u001b[0;31m \u001b[0mplayGame\u001b[0m\u001b[0;34m(\u001b[0m\u001b[0;34m)\u001b[0m\u001b[0;34m\u001b[0m\u001b[0;34m\u001b[0m\u001b[0m\n\u001b[0m\u001b[1;32m     13\u001b[0m \u001b[0;34m\u001b[0m\u001b[0m\n",
      "\u001b[0;32m<ipython-input-2-2215971792a1>\u001b[0m in \u001b[0;36mplayGame\u001b[0;34m()\u001b[0m\n\u001b[1;32m      3\u001b[0m     \u001b[0mdone\u001b[0m \u001b[0;34m=\u001b[0m \u001b[0;32mFalse\u001b[0m\u001b[0;34m\u001b[0m\u001b[0;34m\u001b[0m\u001b[0m\n\u001b[1;32m      4\u001b[0m     \u001b[0;32mwhile\u001b[0m \u001b[0;32mnot\u001b[0m \u001b[0mdone\u001b[0m\u001b[0;34m:\u001b[0m\u001b[0;34m\u001b[0m\u001b[0;34m\u001b[0m\u001b[0m\n\u001b[0;32m----> 5\u001b[0;31m         \u001b[0mx\u001b[0m \u001b[0;34m=\u001b[0m \u001b[0mint\u001b[0m\u001b[0;34m(\u001b[0m\u001b[0minput\u001b[0m\u001b[0;34m(\u001b[0m\u001b[0;34m\"Enter x: \"\u001b[0m\u001b[0;34m)\u001b[0m\u001b[0;34m)\u001b[0m\u001b[0;34m\u001b[0m\u001b[0;34m\u001b[0m\u001b[0m\n\u001b[0m\u001b[1;32m      6\u001b[0m         \u001b[0my\u001b[0m \u001b[0;34m=\u001b[0m \u001b[0mint\u001b[0m\u001b[0;34m(\u001b[0m\u001b[0minput\u001b[0m\u001b[0;34m(\u001b[0m\u001b[0;34m\"Enter y: \"\u001b[0m\u001b[0;34m)\u001b[0m\u001b[0;34m)\u001b[0m\u001b[0;34m\u001b[0m\u001b[0;34m\u001b[0m\u001b[0m\n\u001b[1;32m      7\u001b[0m         \u001b[0maction\u001b[0m \u001b[0;34m=\u001b[0m \u001b[0my\u001b[0m \u001b[0;34m*\u001b[0m \u001b[0menv\u001b[0m\u001b[0;34m.\u001b[0m\u001b[0mshape\u001b[0m\u001b[0;34m[\u001b[0m\u001b[0;36m1\u001b[0m\u001b[0;34m]\u001b[0m \u001b[0;34m+\u001b[0m \u001b[0mx\u001b[0m\u001b[0;34m\u001b[0m\u001b[0;34m\u001b[0m\u001b[0m\n",
      "\u001b[0;31mValueError\u001b[0m: invalid literal for int() with base 10: ''"
     ],
     "ename": "ValueError",
     "evalue": "invalid literal for int() with base 10: ''",
     "output_type": "error"
    }
   ],
   "source": [
    "def playGame():\n",
    "    env = MinesweeperEnv((8,8), 0.1)\n",
    "    done = False\n",
    "    while not done:\n",
    "        x = int(input(\"Enter x: \"))\n",
    "        y = int(input(\"Enter y: \"))\n",
    "        action = y * env.shape[1] + x\n",
    "        _, reward, done, _ = env.step(action)\n",
    "        env.render()\n",
    "        print(\"reward: \", reward)\n",
    "        time.sleep(1)\n",
    "playGame()"
   ],
   "metadata": {
    "collapsed": false,
    "pycharm": {
     "name": "#%%\n",
     "is_executing": false
    }
   }
  },
  {
   "cell_type": "code",
   "execution_count": 2,
   "outputs": [],
   "source": [
    "device = torch.device(\"cuda\" if torch.cuda.is_available() else \"cpu\")\n",
    "def runTest(boardshape, ratioBombs):\n",
    "    env = MinesweeperEnv(boardshape, ratioBombs, device)\n",
    "    done = False\n",
    "    while not done:\n",
    "        action = random.randint(0,boardshape[0]*boardshape[1] - 1)\n",
    "        _,reward, done,_ = env.step(action)\n",
    "    if reward == 100:\n",
    "        env.render()\n",
    "    \n",
    "def runTests(boardShapes, ratios, trials):\n",
    "    print(\"trails: \", end='')\n",
    "    for shape in boardShapes:\n",
    "        for ratio in ratios:\n",
    "            for t in range(trials):\n",
    "                runTest(shape,ratio)\n",
    "                if t % 1000 == 0:\n",
    "                    print(t, end=' ')"
   ],
   "metadata": {
    "collapsed": false,
    "pycharm": {
     "name": "#%%\n",
     "is_executing": false
    }
   }
  },
  {
   "cell_type": "code",
   "execution_count": 3,
   "outputs": [
    {
     "name": "stdout",
     "text": [
      "trails: 0 1000 2000 3000 4000 5000 6000 \n",
      "| | | |2|-|3|1| | |\n",
      "| | | |2|-|-|1| | |\n",
      "| | |1|2|3|2|1| | |\n",
      "| | |2|-|2| | | | |\n",
      "| |1|4|-|3| | | | |\n",
      "| |1|-|-|3|1| | | |\n",
      "| |1|2|3|-|1| | | |\n",
      "| | | |1|1|1| | | |\n",
      "| | | | | | | | | |\n",
      "\n",
      "\n",
      "| | | | | |1|-|2|-|\n",
      "| |1|1|1| |1|1|2|1|\n",
      "| |2|-|2| | | | | |\n",
      "| |3|-|3| | | | | |\n",
      "| |3|-|4|1| | | | |\n",
      "| |2|-|-|1| | | | |\n",
      "| |1|2|2|1| | | | |\n",
      "|1|1|1| | | | | | |\n",
      "|1|-|1| | | | | | |\n",
      "\n",
      "\n",
      "|-|1| | | | | | | |\n",
      "|1|1| | |1|1|1| | |\n",
      "| | | |1|3|-|3|1| |\n",
      "| | | |1|-|-|-|2|1|\n",
      "| | |1|2|3|3|2|2|-|\n",
      "| | |1|-|1| | |1|1|\n",
      "| | |1|1|1| | | | |\n",
      "|1|1|1| | | | | | |\n",
      "|1|-|1| | | | | | |\n",
      "\n",
      "7000 \n",
      "| | | | | | | | | |\n",
      "| | | | | | |1|2|2|\n",
      "| | |1|1|1| |1|-|-|\n",
      "| | |1|-|1|1|2|3|2|\n",
      "|1|1|1|1|1|1|-|1| |\n",
      "|-|1| | | |1|2|3|2|\n",
      "|1|1| | | | |1|-|-|\n",
      "| | | | | | |1|3|3|\n",
      "| | | | | | | |1|-|\n",
      "\n",
      "8000 \n",
      "|1|1|1| | |1|1|2|1|\n",
      "|1|-|1| | |1|-|2|-|\n",
      "|1|1|2|1|1|1|1|2|1|\n",
      "| |1|2|-|1| | | | |\n",
      "| |1|-|2|1| | | | |\n",
      "| |2|2|2| | | | | |\n",
      "| |1|-|1| | | | | |\n",
      "| |1|1|1| |1|2|2|1|\n",
      "| | | | | |1|-|-|1|\n",
      "\n",
      "\n",
      "| | | | |1|-|2|-|1|\n",
      "| | | | |2|2|3|1|1|\n",
      "| | | |1|3|-|2| | |\n",
      "| | | |1|-|-|2| | |\n",
      "| |1|2|3|3|2|1| | |\n",
      "| |1|-|-|1| | | | |\n",
      "| |1|2|3|2|1| | | |\n",
      "| | | |1|-|1| | | |\n",
      "| | | |1|1|1| | | |\n",
      "\n",
      "\n",
      "| |2|-|2| | | | | |\n",
      "| |2|-|3|1| | | | |\n",
      "| |1|2|-|3|2|1| | |\n",
      "| | |1|2|-|-|1| | |\n",
      "|1|1| |1|2|2|1| | |\n",
      "|-|2|1|1| | | | | |\n",
      "|1|2|-|1| |1|1|1| |\n",
      "| |1|1|1| |1|-|1| |\n",
      "| | | | | |1|1|1| |\n",
      "\n",
      "\n",
      "| |1|-|1| | | | | |\n",
      "| |2|2|2| | | | | |\n",
      "| |1|-|1| | | | | |\n",
      "| |1|1|1| |1|2|2|1|\n",
      "| | | |1|1|2|-|-|1|\n",
      "| |1|1|3|-|3|2|2|1|\n",
      "| |1|-|3|-|2| | | |\n",
      "| |2|2|3|1|1| | | |\n",
      "| |1|-|1| | | | | |\n",
      "\n",
      "9000 done\n"
     ],
     "output_type": "stream"
    }
   ],
   "source": [
    "device = torch.device(\"cuda\" if torch.cuda.is_available() else \"cpu\")\n",
    "runTests([[9,9]],[0.1],10000)\n",
    "print('done')"
   ],
   "metadata": {
    "collapsed": false,
    "pycharm": {
     "name": "#%%\n",
     "is_executing": false
    }
   }
  },
  {
   "cell_type": "code",
   "execution_count": null,
   "outputs": [
    {
     "name": "stdout",
     "text": [
      "True\n",
      "Episode: 100 200 300 400 500 600 700 800 900 1000 \n",
      "|2|3|3|2|1| |\n",
      "|-|-|-|-|2|1|\n",
      "|2|3|3|2|3|-|\n",
      "| | | | |2|-|\n",
      "|1|1| | |1|1|\n",
      "|-|1| | | | |\n",
      "\n",
      "1100 1200 1300 1400 1500 1600 1700 1800 1900 2000 2100 2200 2300 2400 2500 2600 2700 2800 2900 3000 3100 3200 3300 3400 3500 3600 3700 3800 3900 4000 4100 4200 4300 4400 4500 4600 4700 4800 4900 5000 5100 5200 5300 5400 5500 5600 5700 5800 5900 6000 6100 6200 6300 6400 6500 6600 6700 6800 6900 7000 7100 7200 7300 7400 7500 7600 7700 7800 7900 8000 "
     ],
     "output_type": "stream"
    }
   ],
   "source": [
    "print(torch.cuda.is_available())\n",
    "device = torch.device(\"cuda\" if torch.cuda.is_available() else \"cpu\")\n",
    "BOARD_SHAPE = (6,6)\n",
    "BOMB_RATIO = 0.20\n",
    "NUMBER_OF_EPISODES = 50000\n",
    "BATCH_SIZE = 100\n",
    "GAMMA = 0.99 \n",
    "EPSILON_START = 0.9\n",
    "EPSILON_END = 0.05\n",
    "EPSILON_DECAY = 200\n",
    "KERNEL_SIZE = 3 \n",
    "STRIDE = 1\n",
    "PADDING = 0\n",
    "LIST_OF_CONV_LAYER_CHANNELS = [[9, 18]]\n",
    "LIST_OF_FULLY_CONNECTED_LAYERS = [[100,100]]\n",
    "TARGET_UPDATE = 100\n",
    "FILE_OUT_PATH = \"./results.csv\"\n",
    "open('./results.csv', 'w').close()\n",
    "completed_models = []\n",
    "dfResults = []\n",
    "for convL in LIST_OF_CONV_LAYER_CHANNELS:\n",
    "    for connectedL in LIST_OF_FULLY_CONNECTED_LAYERS:\n",
    "        model, results = mDQN.trainAModel(BOARD_SHAPE,BOMB_RATIO,NUMBER_OF_EPISODES,BATCH_SIZE,GAMMA,EPSILON_START,EPSILON_END,EPSILON_DECAY,KERNEL_SIZE,STRIDE, PADDING, TARGET_UPDATE,convL,connectedL, device, FILE_OUT_PATH)\n",
    "        completed_models.append(model)\n",
    "        dfResults.append(results)\n",
    "        results.plot(x='Episode', y='Average Total Reward') \n",
    "    \n",
    "print('done')"
   ],
   "metadata": {
    "collapsed": false,
    "pycharm": {
     "name": "#%%\n",
     "is_executing": true
    }
   }
  }
 ],
 "metadata": {
  "kernelspec": {
   "display_name": "Python 3",
   "language": "python",
   "name": "python3"
  },
  "language_info": {
   "codemirror_mode": {
    "name": "ipython",
    "version": 2
   },
   "file_extension": ".py",
   "mimetype": "text/x-python",
   "name": "python",
   "nbconvert_exporter": "python",
   "pygments_lexer": "ipython2",
   "version": "2.7.6"
  },
  "pycharm": {
   "stem_cell": {
    "cell_type": "raw",
    "source": [],
    "metadata": {
     "collapsed": false
    }
   }
  }
 },
 "nbformat": 4,
 "nbformat_minor": 0
}